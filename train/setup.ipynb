{
 "cells": [
  {
   "cell_type": "code",
   "execution_count": 1,
   "id": "b9950a57",
   "metadata": {},
   "outputs": [
    {
     "name": "stdout",
     "output_type": "stream",
     "text": [
      "2.7.1+cu118\n",
      "True\n"
     ]
    }
   ],
   "source": [
    "import torch\n",
    "\n",
    "print(torch.__version__)\n",
    "print(torch.cuda.is_available())"
   ]
  },
  {
   "cell_type": "markdown",
   "id": "11319918",
   "metadata": {},
   "source": [
    "### オンライン"
   ]
  },
  {
   "cell_type": "markdown",
   "id": "692bd85a",
   "metadata": {},
   "source": [
    "#### Ultralyticsライブラリを取得"
   ]
  },
  {
   "cell_type": "code",
   "execution_count": null,
   "id": "332fb809",
   "metadata": {},
   "outputs": [],
   "source": [
    "!pip download ultralytics -d ./wheels"
   ]
  },
  {
   "cell_type": "markdown",
   "id": "72f74f31",
   "metadata": {},
   "source": [
    "#### GitHubソースを取得（任意）\n",
    "※wheelだけでも動きますが、コードを直接修正したい場合はソースを持っていきます。"
   ]
  },
  {
   "cell_type": "code",
   "execution_count": null,
   "id": "db8355ce",
   "metadata": {},
   "outputs": [],
   "source": [
    "!git clone https://github.com/ultralytics/ultralytics.git"
   ]
  },
  {
   "cell_type": "markdown",
   "id": "77eb4c5e",
   "metadata": {},
   "source": [
    "#### 学習済みモデルを公式からダウンロード\n",
    "- [https://docs.ultralytics.com/ja/tasks/pose/](https://docs.ultralytics.com/ja/tasks/pose/)"
   ]
  },
  {
   "cell_type": "markdown",
   "id": "8f4ed2e7",
   "metadata": {},
   "source": [
    "#### PyTorch の wheel をダウンロード\n"
   ]
  },
  {
   "cell_type": "code",
   "execution_count": null,
   "id": "6d5cfed9",
   "metadata": {},
   "outputs": [],
   "source": [
    "# CUDA 11.8 版\n",
    "!pip download torch torchvision torchaudio --extra-index-url https://download.pytorch.org/whl/cu118 -d ./wheels"
   ]
  },
  {
   "cell_type": "markdown",
   "id": "d4bb0fbd",
   "metadata": {},
   "source": [
    "# オフライン"
   ]
  },
  {
   "cell_type": "code",
   "execution_count": null,
   "id": "0080f83e",
   "metadata": {},
   "outputs": [],
   "source": [
    "!pip install --no-index --find-links=./wheels ultralytics"
   ]
  },
  {
   "cell_type": "code",
   "execution_count": null,
   "id": "fc91e832",
   "metadata": {},
   "outputs": [],
   "source": []
  }
 ],
 "metadata": {
  "kernelspec": {
   "display_name": "venv",
   "language": "python",
   "name": "python3"
  },
  "language_info": {
   "codemirror_mode": {
    "name": "ipython",
    "version": 3
   },
   "file_extension": ".py",
   "mimetype": "text/x-python",
   "name": "python",
   "nbconvert_exporter": "python",
   "pygments_lexer": "ipython3",
   "version": "3.11.9"
  }
 },
 "nbformat": 4,
 "nbformat_minor": 5
}
